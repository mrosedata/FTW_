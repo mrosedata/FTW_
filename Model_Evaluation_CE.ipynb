{
  "cells": [
    {
      "cell_type": "markdown",
      "metadata": {
        "id": "view-in-github",
        "colab_type": "text"
      },
      "source": [
        "<a href=\"https://colab.research.google.com/github/mrosedata/FTW_/blob/main/Model_Evaluation_CE.ipynb\" target=\"_parent\"><img src=\"https://colab.research.google.com/assets/colab-badge.svg\" alt=\"Open In Colab\"/></a>"
      ]
    },
    {
      "cell_type": "markdown",
      "metadata": {
        "id": "p-22AsdNXu-g"
      },
      "source": [
        "The metrics that you choose to evaluate your machine learning algorithms are very important.\n",
        "Choice of metrics influences how the performance of machine learning algorithms is measured and compared."
      ]
    },
    {
      "cell_type": "markdown",
      "metadata": {
        "id": "CbaiC8AHXu-o"
      },
      "source": [
        "# Date preprocessing"
      ]
    },
    {
      "cell_type": "code",
      "execution_count": null,
      "metadata": {
        "ExecuteTime": {
          "end_time": "2023-11-10T13:12:43.415239Z",
          "start_time": "2023-11-10T13:12:43.408824Z"
        },
        "id": "hFpr-C3eXu-p"
      },
      "outputs": [],
      "source": [
        "import warnings\n",
        "warnings.filterwarnings(\"ignore\")"
      ]
    },
    {
      "cell_type": "code",
      "execution_count": null,
      "metadata": {
        "ExecuteTime": {
          "end_time": "2023-11-10T13:12:43.587476Z",
          "start_time": "2023-11-10T13:12:43.571472Z"
        },
        "id": "uE_rNWiIXu-r"
      },
      "outputs": [],
      "source": [
        "import numpy as np\n",
        "import pandas as pd\n",
        "import sklearn"
      ]
    },
    {
      "cell_type": "code",
      "execution_count": null,
      "metadata": {
        "ExecuteTime": {
          "end_time": "2023-11-10T13:12:43.745530Z",
          "start_time": "2023-11-10T13:12:43.726523Z"
        },
        "id": "1ggu2NPKXu-r"
      },
      "outputs": [],
      "source": [
        "# from sklearn.ensemble import RandomForestRegressor, RandomForestClassifier\n",
        "from sklearn.linear_model import LinearRegression, LogisticRegression\n",
        "# from sklearn.linear_model import LogisticRegression\n",
        "from sklearn.model_selection import train_test_split"
      ]
    },
    {
      "cell_type": "code",
      "execution_count": null,
      "metadata": {
        "ExecuteTime": {
          "end_time": "2023-11-10T13:12:43.903549Z",
          "start_time": "2023-11-10T13:12:43.888548Z"
        },
        "id": "o4PaVfx9Xu-s"
      },
      "outputs": [],
      "source": [
        "titanic = pd.read_csv(\"titanic.csv\")"
      ]
    },
    {
      "cell_type": "code",
      "execution_count": null,
      "metadata": {
        "ExecuteTime": {
          "end_time": "2023-11-10T13:12:44.059472Z",
          "start_time": "2023-11-10T13:12:44.041471Z"
        },
        "id": "qp-SQc8pXu-s",
        "outputId": "b263d6ea-4731-480f-d124-aaeb66d383d6"
      },
      "outputs": [
        {
          "data": {
            "text/plain": [
              "Index(['PassengerId', 'Survived', 'Pclass', 'Name', 'Sex', 'Age', 'SibSp',\n",
              "       'Parch', 'Ticket', 'Fare', 'Cabin', 'Embarked'],\n",
              "      dtype='object')"
            ]
          },
          "execution_count": 305,
          "metadata": {},
          "output_type": "execute_result"
        }
      ],
      "source": [
        "titanic.columns"
      ]
    },
    {
      "cell_type": "code",
      "execution_count": null,
      "metadata": {
        "ExecuteTime": {
          "end_time": "2023-11-10T13:12:44.214552Z",
          "start_time": "2023-11-10T13:12:44.191548Z"
        },
        "id": "pnlxsFTVXu-u"
      },
      "outputs": [],
      "source": [
        "titanic.Age =titanic.Age.fillna(titanic.Age.median())"
      ]
    },
    {
      "cell_type": "code",
      "execution_count": null,
      "metadata": {
        "ExecuteTime": {
          "end_time": "2023-11-10T13:12:44.371031Z",
          "start_time": "2023-11-10T13:12:44.350032Z"
        },
        "id": "sAzpXLZuXu-v"
      },
      "outputs": [],
      "source": [
        " titanic.drop(['Sex','Embarked','Ticket', 'PassengerId', 'Name','Cabin'],axis=1,inplace=True)"
      ]
    },
    {
      "cell_type": "code",
      "execution_count": null,
      "metadata": {
        "ExecuteTime": {
          "end_time": "2023-11-10T13:12:44.510804Z",
          "start_time": "2023-11-10T13:12:44.498805Z"
        },
        "id": "Cd4G2CaXXu-v"
      },
      "outputs": [],
      "source": [
        "titanic = titanic[['Age','Fare','Survived']]\n",
        "\n",
        "# Convert 'Sex' column to dummy variables\n",
        "# titanic_data = pd.get_dummies(titanic, columns=['Sex'], drop_first=True)"
      ]
    },
    {
      "cell_type": "markdown",
      "metadata": {
        "id": "3dS00m-yXu-w"
      },
      "source": [
        "#####  train test split 70% train 30% for test"
      ]
    },
    {
      "cell_type": "markdown",
      "metadata": {
        "id": "eQrgdU_4Xu-w"
      },
      "source": [
        "<img src=\"https://cdn-images-1.medium.com/max/1600/1*-8_kogvwmL1H6ooN1A1tsQ.png\" style=\"width:50%;\">"
      ]
    },
    {
      "cell_type": "code",
      "execution_count": null,
      "metadata": {
        "ExecuteTime": {
          "end_time": "2023-11-10T13:12:45.075482Z",
          "start_time": "2023-11-10T13:12:45.061477Z"
        },
        "id": "89gcl8bMXu-w"
      },
      "outputs": [],
      "source": [
        "X = titanic.drop('Survived', axis=1)\n",
        "y = titanic.Survived\n",
        "\n",
        "X_train, X_test, y_train, y_test = train_test_split(X, y, test_size=0.25)"
      ]
    },
    {
      "cell_type": "code",
      "execution_count": null,
      "metadata": {
        "ExecuteTime": {
          "end_time": "2023-11-10T13:12:45.277985Z",
          "start_time": "2023-11-10T13:12:45.261982Z"
        },
        "id": "PYz7wR4BXu-x"
      },
      "outputs": [],
      "source": [
        "model = LogisticRegression()"
      ]
    },
    {
      "cell_type": "code",
      "execution_count": null,
      "metadata": {
        "ExecuteTime": {
          "end_time": "2023-11-10T13:12:45.546138Z",
          "start_time": "2023-11-10T13:12:45.513135Z"
        },
        "id": "osIjrRERXu-x",
        "outputId": "d685bcbe-fc09-466f-9cfc-600ff56cbb5d"
      },
      "outputs": [
        {
          "data": {
            "text/html": [
              "<style>#sk-container-id-13 {color: black;}#sk-container-id-13 pre{padding: 0;}#sk-container-id-13 div.sk-toggleable {background-color: white;}#sk-container-id-13 label.sk-toggleable__label {cursor: pointer;display: block;width: 100%;margin-bottom: 0;padding: 0.3em;box-sizing: border-box;text-align: center;}#sk-container-id-13 label.sk-toggleable__label-arrow:before {content: \"▸\";float: left;margin-right: 0.25em;color: #696969;}#sk-container-id-13 label.sk-toggleable__label-arrow:hover:before {color: black;}#sk-container-id-13 div.sk-estimator:hover label.sk-toggleable__label-arrow:before {color: black;}#sk-container-id-13 div.sk-toggleable__content {max-height: 0;max-width: 0;overflow: hidden;text-align: left;background-color: #f0f8ff;}#sk-container-id-13 div.sk-toggleable__content pre {margin: 0.2em;color: black;border-radius: 0.25em;background-color: #f0f8ff;}#sk-container-id-13 input.sk-toggleable__control:checked~div.sk-toggleable__content {max-height: 200px;max-width: 100%;overflow: auto;}#sk-container-id-13 input.sk-toggleable__control:checked~label.sk-toggleable__label-arrow:before {content: \"▾\";}#sk-container-id-13 div.sk-estimator input.sk-toggleable__control:checked~label.sk-toggleable__label {background-color: #d4ebff;}#sk-container-id-13 div.sk-label input.sk-toggleable__control:checked~label.sk-toggleable__label {background-color: #d4ebff;}#sk-container-id-13 input.sk-hidden--visually {border: 0;clip: rect(1px 1px 1px 1px);clip: rect(1px, 1px, 1px, 1px);height: 1px;margin: -1px;overflow: hidden;padding: 0;position: absolute;width: 1px;}#sk-container-id-13 div.sk-estimator {font-family: monospace;background-color: #f0f8ff;border: 1px dotted black;border-radius: 0.25em;box-sizing: border-box;margin-bottom: 0.5em;}#sk-container-id-13 div.sk-estimator:hover {background-color: #d4ebff;}#sk-container-id-13 div.sk-parallel-item::after {content: \"\";width: 100%;border-bottom: 1px solid gray;flex-grow: 1;}#sk-container-id-13 div.sk-label:hover label.sk-toggleable__label {background-color: #d4ebff;}#sk-container-id-13 div.sk-serial::before {content: \"\";position: absolute;border-left: 1px solid gray;box-sizing: border-box;top: 0;bottom: 0;left: 50%;z-index: 0;}#sk-container-id-13 div.sk-serial {display: flex;flex-direction: column;align-items: center;background-color: white;padding-right: 0.2em;padding-left: 0.2em;position: relative;}#sk-container-id-13 div.sk-item {position: relative;z-index: 1;}#sk-container-id-13 div.sk-parallel {display: flex;align-items: stretch;justify-content: center;background-color: white;position: relative;}#sk-container-id-13 div.sk-item::before, #sk-container-id-13 div.sk-parallel-item::before {content: \"\";position: absolute;border-left: 1px solid gray;box-sizing: border-box;top: 0;bottom: 0;left: 50%;z-index: -1;}#sk-container-id-13 div.sk-parallel-item {display: flex;flex-direction: column;z-index: 1;position: relative;background-color: white;}#sk-container-id-13 div.sk-parallel-item:first-child::after {align-self: flex-end;width: 50%;}#sk-container-id-13 div.sk-parallel-item:last-child::after {align-self: flex-start;width: 50%;}#sk-container-id-13 div.sk-parallel-item:only-child::after {width: 0;}#sk-container-id-13 div.sk-dashed-wrapped {border: 1px dashed gray;margin: 0 0.4em 0.5em 0.4em;box-sizing: border-box;padding-bottom: 0.4em;background-color: white;}#sk-container-id-13 div.sk-label label {font-family: monospace;font-weight: bold;display: inline-block;line-height: 1.2em;}#sk-container-id-13 div.sk-label-container {text-align: center;}#sk-container-id-13 div.sk-container {/* jupyter's `normalize.less` sets `[hidden] { display: none; }` but bootstrap.min.css set `[hidden] { display: none !important; }` so we also need the `!important` here to be able to override the default hidden behavior on the sphinx rendered scikit-learn.org. See: https://github.com/scikit-learn/scikit-learn/issues/21755 */display: inline-block !important;position: relative;}#sk-container-id-13 div.sk-text-repr-fallback {display: none;}</style><div id=\"sk-container-id-13\" class=\"sk-top-container\"><div class=\"sk-text-repr-fallback\"><pre>LogisticRegression()</pre><b>In a Jupyter environment, please rerun this cell to show the HTML representation or trust the notebook. <br />On GitHub, the HTML representation is unable to render, please try loading this page with nbviewer.org.</b></div><div class=\"sk-container\" hidden><div class=\"sk-item\"><div class=\"sk-estimator sk-toggleable\"><input class=\"sk-toggleable__control sk-hidden--visually\" id=\"sk-estimator-id-13\" type=\"checkbox\" checked><label for=\"sk-estimator-id-13\" class=\"sk-toggleable__label sk-toggleable__label-arrow\">LogisticRegression</label><div class=\"sk-toggleable__content\"><pre>LogisticRegression()</pre></div></div></div></div></div>"
            ],
            "text/plain": [
              "LogisticRegression()"
            ]
          },
          "execution_count": 311,
          "metadata": {},
          "output_type": "execute_result"
        }
      ],
      "source": [
        "model.fit(X_train,y_train)"
      ]
    },
    {
      "cell_type": "code",
      "execution_count": null,
      "metadata": {
        "ExecuteTime": {
          "end_time": "2023-11-10T13:12:45.845486Z",
          "start_time": "2023-11-10T13:12:45.820485Z"
        },
        "scrolled": true,
        "id": "bKPMbJUbXu-x",
        "outputId": "d1e92039-08d0-4bb8-a02c-fb5d699fde8e"
      },
      "outputs": [
        {
          "data": {
            "text/plain": [
              "array([1, 0, 0, 0, 0, 0, 1, 0, 0, 1, 0, 0, 0, 0, 0, 0, 0, 0, 0, 1, 0, 0,\n",
              "       1, 1, 0, 1, 0, 0, 1, 0, 0, 1, 0, 1, 0, 0, 0, 0, 0, 0, 1, 1, 0, 0,\n",
              "       1, 0, 0, 0, 0, 0, 0, 0, 0, 0, 0, 0, 0, 0, 1, 0, 0, 0, 0, 0, 0, 0,\n",
              "       0, 0, 1, 0, 0, 0, 0, 0, 0, 0, 0, 0, 1, 0, 0, 0, 0, 0, 0, 0, 0, 0,\n",
              "       0, 0, 0, 0, 0, 1, 0, 0, 0, 0, 1, 1, 0, 0, 0, 0, 0, 1, 0, 0, 0, 0,\n",
              "       0, 0, 0, 0, 0, 0, 1, 0, 0, 0, 0, 0, 0, 1, 0, 1, 0, 1, 0, 1, 0, 0,\n",
              "       0, 0, 0, 1, 0, 0, 0, 0, 0, 0, 0, 0, 0, 0, 0, 0, 0, 0, 1, 0, 0, 0,\n",
              "       1, 0, 0, 0, 0, 0, 0, 0, 0, 0, 0, 0, 0, 0, 0, 1, 0, 0, 0, 0, 0, 0,\n",
              "       0, 0, 0, 0, 1, 0, 1, 0, 0, 0, 0, 0, 0, 0, 0, 0, 0, 0, 0, 0, 0, 0,\n",
              "       0, 0, 0, 0, 0, 0, 0, 0, 0, 1, 0, 0, 0, 0, 0, 0, 0, 1, 0, 0, 0, 0,\n",
              "       0, 0, 0, 0], dtype=int64)"
            ]
          },
          "execution_count": 312,
          "metadata": {},
          "output_type": "execute_result"
        }
      ],
      "source": [
        "predictions = model.predict(X_test)\n",
        "predictions"
      ]
    },
    {
      "cell_type": "markdown",
      "metadata": {
        "id": "gT-2UvQbXu-y"
      },
      "source": [
        "# Metrics for evaluating Classifiers"
      ]
    },
    {
      "cell_type": "code",
      "execution_count": null,
      "metadata": {
        "ExecuteTime": {
          "end_time": "2023-11-10T13:12:46.518398Z",
          "start_time": "2023-11-10T13:12:46.501400Z"
        },
        "id": "tT1hhk_7Xu-y"
      },
      "outputs": [],
      "source": [
        "from sklearn.metrics import accuracy_score, classification_report, confusion_matrix,roc_auc_score"
      ]
    },
    {
      "cell_type": "markdown",
      "metadata": {
        "id": "dVtStgzUXu-y"
      },
      "source": [
        "### Accuracy\n",
        "\n",
        "This metric measures the ratio of correct predictions over the total number of predictions.\n"
      ]
    },
    {
      "cell_type": "code",
      "execution_count": null,
      "metadata": {
        "ExecuteTime": {
          "end_time": "2023-11-10T13:12:47.071453Z",
          "start_time": "2023-11-10T13:12:47.053039Z"
        },
        "id": "EOfSMAzGXu-z",
        "outputId": "899ee123-d36f-4710-e4b1-4bac460a6528"
      },
      "outputs": [
        {
          "name": "stdout",
          "output_type": "stream",
          "text": [
            "0.6517857142857143\n"
          ]
        }
      ],
      "source": [
        "print(accuracy_score(y_test,predictions))"
      ]
    },
    {
      "cell_type": "markdown",
      "metadata": {
        "id": "rSoDIS8zXu-z"
      },
      "source": [
        "While its simplicity is appealing, the most significant reason why accuracy is not a good measure for imbalanced data is that it doesn't consider the nuances of classification. Measured in a vacuum, it simply provides a limited view of the model's true dependability."
      ]
    },
    {
      "cell_type": "code",
      "execution_count": null,
      "metadata": {
        "ExecuteTime": {
          "end_time": "2023-11-10T13:12:47.945781Z",
          "start_time": "2023-11-10T13:12:47.928783Z"
        },
        "id": "8QGhYmK_Xu-z",
        "outputId": "746ee616-f2ae-4a74-e84d-3a94c3f07e45"
      },
      "outputs": [
        {
          "data": {
            "text/plain": [
              "Survived\n",
              "0    550\n",
              "1    345\n",
              "Name: count, dtype: int64"
            ]
          },
          "execution_count": 315,
          "metadata": {},
          "output_type": "execute_result"
        }
      ],
      "source": [
        "titanic.Survived.value_counts()"
      ]
    },
    {
      "cell_type": "markdown",
      "metadata": {
        "id": "r1bgVUYEXu-0"
      },
      "source": [
        "### Confusion matrix <a class=\"anchor\" id=\"cm\"></a>\n",
        "\n",
        "A confusion matrix is a table that is often used to describe the performance of a classification model (or \"classifier\") on a set of test data for which the true values are known.\n",
        "\n",
        "<img src=\"https://i.ytimg.com/vi/AOIkPnKu0YA/maxresdefault.jpg\" />"
      ]
    },
    {
      "cell_type": "code",
      "execution_count": null,
      "metadata": {
        "ExecuteTime": {
          "end_time": "2023-11-10T13:12:49.020373Z",
          "start_time": "2023-11-10T13:12:48.994373Z"
        },
        "id": "Zf3iCTDIXu-0",
        "outputId": "94e06d09-bb7b-477b-93d3-29399ee87673"
      },
      "outputs": [
        {
          "name": "stdout",
          "output_type": "stream",
          "text": [
            "[[124  11]\n",
            " [ 67  22]]\n"
          ]
        }
      ],
      "source": [
        "cm = confusion_matrix(y_test,predictions)\n",
        "print(cm)"
      ]
    },
    {
      "cell_type": "code",
      "execution_count": null,
      "metadata": {
        "ExecuteTime": {
          "end_time": "2023-11-10T13:12:49.678388Z",
          "start_time": "2023-11-10T13:12:49.660389Z"
        },
        "id": "KTy5qbRmXu-1"
      },
      "outputs": [],
      "source": [
        "TP = cm[0][0] # The model predicted true and it is true.\n",
        "FP = cm[0][1] # The model predicted True and it is false.\n",
        "FN = cm[1][0] # The model predicted false and it is true.\n",
        "TN = cm[1][1] # The model predicted false and it is false."
      ]
    },
    {
      "cell_type": "markdown",
      "metadata": {
        "id": "2aTSQ2WEXu-1"
      },
      "source": [
        "### Precision\n",
        "\n",
        "Precision is a way for us to measure how many predictions did our model correctly predict out of all the predictions made.\n",
        "\n",
        "<img src=\"https://miro.medium.com/v2/resize:fit:720/format:webp/1*MV1tjJLTc68slUy3GL2ftQ.png\" />"
      ]
    },
    {
      "cell_type": "code",
      "execution_count": null,
      "metadata": {
        "ExecuteTime": {
          "end_time": "2023-11-10T13:12:50.485251Z",
          "start_time": "2023-11-10T13:12:50.461032Z"
        },
        "id": "qx12KeXdXu-1",
        "outputId": "615cc5ed-5baf-4306-8c78-558751897907"
      },
      "outputs": [
        {
          "data": {
            "text/plain": [
              "0.6666666666666666"
            ]
          },
          "execution_count": 318,
          "metadata": {},
          "output_type": "execute_result"
        }
      ],
      "source": [
        "sklearn.metrics.precision_score(y_test, predictions)"
      ]
    },
    {
      "cell_type": "markdown",
      "metadata": {
        "id": "flsTRu5FXu-2"
      },
      "source": [
        "### Recall\n",
        "\n",
        "Recall, on the other hand, is a way for us to measure how many records (or datapoints, or rows) did we correctly predict out of all records we have.\n",
        "\n",
        "<img src=\"https://miro.medium.com/v2/resize:fit:720/format:webp/1*LOEPzJuZqnnFYUI2HfRbwg.png\" />"
      ]
    },
    {
      "cell_type": "code",
      "execution_count": null,
      "metadata": {
        "ExecuteTime": {
          "end_time": "2023-11-10T13:12:51.109948Z",
          "start_time": "2023-11-10T13:12:51.085948Z"
        },
        "id": "xQWwp1xxXu-2",
        "outputId": "840258b1-535f-4d3f-9f85-d7cfae342da4"
      },
      "outputs": [
        {
          "data": {
            "text/plain": [
              "0.24719101123595505"
            ]
          },
          "execution_count": 319,
          "metadata": {},
          "output_type": "execute_result"
        }
      ],
      "source": [
        "sklearn.metrics.recall_score(y_test, predictions)"
      ]
    },
    {
      "cell_type": "markdown",
      "metadata": {
        "id": "TTOxcMxJXu-2"
      },
      "source": [
        "### Precision vs Recall\n",
        "\n",
        "Actually Precision and Recall only differs on the False Positive and the False Negative.\n",
        "\n",
        "Suppose we want to predict people who will Survive:\n",
        "False Positive is the number of people who “Survived” that are not actually a survivor.\n",
        "False Negative is the number of people who “Survived” we fail to predict as a survivor.\n",
        "So, False Positive and False Negative is, in a way, “the number of predictions that are wrong”."
      ]
    },
    {
      "cell_type": "markdown",
      "metadata": {
        "ExecuteTime": {
          "end_time": "2023-11-10T09:47:51.588196Z",
          "start_time": "2023-11-10T09:47:51.556188Z"
        },
        "id": "K_Z5AI_dXu-3"
      },
      "source": [
        "### Sensitivity vs Specificity\n",
        "\n",
        "Remember that there are 2 classes that we want to predict. The survivor and non-survivor. Sensitivity and Specificity is actually a way to measure model performance **when we have only 2 classes to predict** (Binary Classification)."
      ]
    },
    {
      "cell_type": "markdown",
      "metadata": {
        "id": "D3RiD_CmXu-3"
      },
      "source": [
        "### Sensitivity (or Recall or True Positive Rate)\n",
        "\n",
        "Sensitivity talks about the number of positive records correctly predicted.\n",
        "\n",
        "<img src=\"https://miro.medium.com/v2/resize:fit:720/format:webp/1*oGisKlXnsa8HdjqsQJJ0mw.png\" />"
      ]
    },
    {
      "cell_type": "markdown",
      "metadata": {
        "ExecuteTime": {
          "end_time": "2023-11-10T09:50:37.065550Z",
          "start_time": "2023-11-10T09:50:37.033498Z"
        },
        "id": "fZsafHCNXu-4"
      },
      "source": [
        "### Specificity (or True Negative Rate)\n",
        "\n",
        "Specificity talks ambout the number of negative records correctly predicted.\n",
        "\n",
        "<img src=\"https://miro.medium.com/v2/resize:fit:720/format:webp/1*zkGNlhKPOpWkeJcACbbEhA.png\" />"
      ]
    },
    {
      "cell_type": "code",
      "execution_count": null,
      "metadata": {
        "ExecuteTime": {
          "end_time": "2023-11-10T13:12:53.161613Z",
          "start_time": "2023-11-10T13:12:53.135612Z"
        },
        "id": "CRTPiUnBXu-4",
        "outputId": "a1f06510-7ea3-4ce0-aaef-097771e340d4"
      },
      "outputs": [
        {
          "data": {
            "text/plain": [
              "0.9185185185185185"
            ]
          },
          "execution_count": 320,
          "metadata": {},
          "output_type": "execute_result"
        }
      ],
      "source": [
        "sklearn.metrics.recall_score(y_test, predictions, pos_label =0)"
      ]
    },
    {
      "cell_type": "markdown",
      "metadata": {
        "id": "L_teUmpiXu-4"
      },
      "source": [
        "### F1 score\n",
        "\n",
        "F1 score is an alternative machine learning evaluation metric that assesses the predictive skill of a model by elaborating on its class-wise performance rather than an overall performance as done by accuracy. F1 score combines two competing metrics- precision and recall scores of a model, leading to its widespread use in recent literature.\n",
        "\n",
        "The F1 score is calculated as the harmonic mean of the precision and recall scores, as shown below. It ranges from 0-100%, and a higher F1 score denotes a better quality classifier.\n",
        "\n",
        "<img src=\"https://assets-global.website-files.com/5d7b77b063a9066d83e1209c/639c3d2a22f93657640ef19f_f1-score-eqn.webp\" />"
      ]
    },
    {
      "cell_type": "code",
      "execution_count": null,
      "metadata": {
        "ExecuteTime": {
          "end_time": "2023-11-10T13:12:54.041371Z",
          "start_time": "2023-11-10T13:12:54.020367Z"
        },
        "id": "w-SUdxwRXu-4",
        "outputId": "ea431e5f-9c76-47e7-cdaa-ff97c74af416"
      },
      "outputs": [
        {
          "data": {
            "text/plain": [
              "0.360655737704918"
            ]
          },
          "execution_count": 321,
          "metadata": {},
          "output_type": "execute_result"
        }
      ],
      "source": [
        "sklearn.metrics.f1_score(y_test, predictions)"
      ]
    },
    {
      "cell_type": "markdown",
      "metadata": {
        "id": "416ME-oIXu-5"
      },
      "source": [
        "### ROC-AUC\n",
        "\n",
        "ROC (Receiver Operating Characteristic) curve is a visualization of false positive rate (x-axis) and the true positive rate (y-axis).\n",
        "\n",
        "An excellent model has AUC near to the 1 which means it has a good measure of separability. A poor model has an AUC near 0 which means it has the worst measure of separability. In fact, it means it is reciprocating the result. It is predicting 0s as 1s and 1s as 0s. And when AUC is 0.5, it means the model has no class separation capacity whatsoever.\n",
        "\n",
        "<img src=\"https://i0.wp.com/sefiks.com/wp-content/uploads/2020/12/roc-curve-original.png?fit=726%2C576&ssl=1\" />"
      ]
    },
    {
      "cell_type": "code",
      "execution_count": null,
      "metadata": {
        "ExecuteTime": {
          "end_time": "2023-11-10T13:12:55.614240Z",
          "start_time": "2023-11-10T13:12:55.588878Z"
        },
        "id": "eCk9cymCXu-5",
        "outputId": "7aa36210-feab-4e58-dcf5-4d451909548c"
      },
      "outputs": [
        {
          "name": "stdout",
          "output_type": "stream",
          "text": [
            "[0.         0.         0.01481481 0.01481481 0.02962963 0.02962963\n",
            " 0.03703704 0.03703704 0.04444444 0.04444444 0.05925926 0.05925926\n",
            " 0.06666667 0.06666667 0.07407407 0.07407407 0.0962963  0.0962963\n",
            " 0.0962963  0.11111111 0.11111111 0.11111111 0.11111111 0.12592593\n",
            " 0.12592593 0.13333333 0.13333333 0.14074074 0.14074074 0.14814815\n",
            " 0.14814815 0.16296296 0.17037037 0.17777778 0.2        0.2\n",
            " 0.20740741 0.20740741 0.22222222 0.22222222 0.23703704 0.23703704\n",
            " 0.24444444 0.24444444 0.25925926 0.25925926 0.27407407 0.28888889\n",
            " 0.2962963  0.2962963  0.3037037  0.3037037  0.31111111 0.32592593\n",
            " 0.34814815 0.34814815 0.36296296 0.36296296 0.37777778 0.37777778\n",
            " 0.38518519 0.38518519 0.39259259 0.4        0.42962963 0.44444444\n",
            " 0.48888889 0.4962963  0.51111111 0.51111111 0.51851852 0.51851852\n",
            " 0.55555556 0.57037037 0.57777778 0.59259259 0.6        0.6\n",
            " 0.60740741 0.60740741 0.62962963 0.62962963 0.65925926 0.66666667\n",
            " 0.7037037  0.7037037  0.73333333 0.73333333 0.76296296 0.77777778\n",
            " 0.8        0.8        0.84444444 0.84444444 0.86666667 0.88888889\n",
            " 0.88888889 0.8962963  0.8962963  0.93333333 0.93333333 0.94814815\n",
            " 0.94814815 0.97037037 0.97037037 0.98518519 0.98518519 1.        ]\n",
            "[0.         0.01123596 0.01123596 0.02247191 0.02247191 0.07865169\n",
            " 0.07865169 0.1011236  0.1011236  0.15730337 0.15730337 0.17977528\n",
            " 0.17977528 0.2247191  0.2247191  0.24719101 0.24719101 0.26966292\n",
            " 0.29213483 0.29213483 0.31460674 0.33707865 0.34831461 0.34831461\n",
            " 0.40449438 0.40449438 0.42696629 0.42696629 0.4494382  0.4494382\n",
            " 0.46067416 0.46067416 0.47191011 0.47191011 0.47191011 0.49438202\n",
            " 0.49438202 0.51685393 0.51685393 0.53932584 0.53932584 0.56179775\n",
            " 0.56179775 0.58426966 0.58426966 0.59550562 0.59550562 0.59550562\n",
            " 0.59550562 0.60674157 0.60674157 0.62921348 0.62921348 0.64044944\n",
            " 0.64044944 0.65168539 0.65168539 0.6741573  0.6741573  0.68539326\n",
            " 0.68539326 0.69662921 0.69662921 0.70786517 0.70786517 0.70786517\n",
            " 0.70786517 0.71910112 0.71910112 0.73033708 0.73033708 0.75280899\n",
            " 0.75280899 0.75280899 0.75280899 0.75280899 0.75280899 0.76404494\n",
            " 0.76404494 0.7752809  0.7752809  0.79775281 0.79775281 0.79775281\n",
            " 0.79775281 0.80898876 0.85393258 0.86516854 0.86516854 0.86516854\n",
            " 0.86516854 0.87640449 0.87640449 0.92134831 0.92134831 0.92134831\n",
            " 0.93258427 0.93258427 0.94382022 0.94382022 0.95505618 0.95505618\n",
            " 0.97752809 0.97752809 0.98876404 0.98876404 1.         1.        ]\n",
            "[       inf 0.97211184 0.88830241 0.84213652 0.80337066 0.62434151\n",
            " 0.60973315 0.6042491  0.6039411  0.55168591 0.54496514 0.53683041\n",
            " 0.52478306 0.50750559 0.5045352  0.50038236 0.49256593 0.49242029\n",
            " 0.48108452 0.47989235 0.47046885 0.4704507  0.46990575 0.46549496\n",
            " 0.41658205 0.41331306 0.4036626  0.40293492 0.39591993 0.38444322\n",
            " 0.38366707 0.38045413 0.38000603 0.3774096  0.36392817 0.36096893\n",
            " 0.35719223 0.35640404 0.35333502 0.35195829 0.3513209  0.3497996\n",
            " 0.34970766 0.34743172 0.34380933 0.34286484 0.34212598 0.34182734\n",
            " 0.34057333 0.3386324  0.33831896 0.33774024 0.33610384 0.33461214\n",
            " 0.33352101 0.3334597  0.33170993 0.33122552 0.3287438  0.32855919\n",
            " 0.32812646 0.32750726 0.32622801 0.32621229 0.32217388 0.32216936\n",
            " 0.31861013 0.3170723  0.31584584 0.31583907 0.31558928 0.31462727\n",
            " 0.30886896 0.30851578 0.30823487 0.30728147 0.30725187 0.30661614\n",
            " 0.30451087 0.30387085 0.30154688 0.30029912 0.2993896  0.29895043\n",
            " 0.29884789 0.2986141  0.29833621 0.29827763 0.29651258 0.2964979\n",
            " 0.2932582  0.2917188  0.28397461 0.28099978 0.27488092 0.27188103\n",
            " 0.27117788 0.26732519 0.25984523 0.24297772 0.24247451 0.23691813\n",
            " 0.23332762 0.22477604 0.22297934 0.21258598 0.17898679 0.14514268]\n"
          ]
        }
      ],
      "source": [
        "from sklearn.metrics import roc_auc_score\n",
        "from sklearn.metrics import roc_curve, auc\n",
        "fpr, tpr, thresholds = roc_curve(y_test, model.predict_proba(X_test)[:,1])\n",
        "print(fpr)\n",
        "print(tpr)\n",
        "print(thresholds)"
      ]
    },
    {
      "cell_type": "code",
      "execution_count": null,
      "metadata": {
        "ExecuteTime": {
          "end_time": "2023-11-10T13:12:56.414993Z",
          "start_time": "2023-11-10T13:12:56.170628Z"
        },
        "id": "inoDXnneXu-6",
        "outputId": "cd530c8c-78e9-4daa-bd3c-ad2487eb1137"
      },
      "outputs": [
        {
          "data": {
            "image/png": "[encoded data removed]",
            "text/plain": [
              "<Figure size 800x800 with 1 Axes>"
            ]
          },
          "metadata": {},
          "output_type": "display_data"
        }
      ],
      "source": [
        "# Plot ROC curve\n",
        "import matplotlib.pyplot as plt\n",
        "\n",
        "roc_auc = auc(fpr, tpr)\n",
        "plt.figure(figsize=(8, 8))\n",
        "plt.plot(fpr, tpr, color='darkorange', lw=2, label=f'ROC curve (area = {roc_auc:.2f})')\n",
        "plt.plot([0, 1], [0, 1], color='navy', lw=2, linestyle='--')\n",
        "plt.xlabel('False Positive Rate')\n",
        "plt.ylabel('True Positive Rate')\n",
        "plt.title('Receiver Operating Characteristic (ROC) Curve')\n",
        "plt.legend(loc='lower right')\n",
        "plt.show()"
      ]
    },
    {
      "cell_type": "markdown",
      "metadata": {
        "id": "Y0036Ph-Xu_B"
      },
      "source": [
        "ROC AUC reflects the model quality in one number. This sums up the performance across the different classification thresholds. It is a valuable \"overall\" quality measure, whereas precision and recall provide a quality \"snapshot\" at a given decision threshold.\n"
      ]
    },
    {
      "cell_type": "markdown",
      "metadata": {
        "id": "6eGS6TzXXu_B"
      },
      "source": [
        "### Classification Report\n",
        "This is a summary of metrics for each class."
      ]
    },
    {
      "cell_type": "code",
      "execution_count": null,
      "metadata": {
        "ExecuteTime": {
          "end_time": "2023-11-10T13:13:05.634918Z",
          "start_time": "2023-11-10T13:13:05.603912Z"
        },
        "id": "nnOgbzzUXu_C",
        "outputId": "8e18a2be-7581-4dc5-a82e-08a5da66c049"
      },
      "outputs": [
        {
          "name": "stdout",
          "output_type": "stream",
          "text": [
            "classification report:\n",
            "              precision    recall  f1-score   support\n",
            "\n",
            "           0       0.65      0.92      0.76       135\n",
            "           1       0.67      0.25      0.36        89\n",
            "\n",
            "    accuracy                           0.65       224\n",
            "   macro avg       0.66      0.58      0.56       224\n",
            "weighted avg       0.66      0.65      0.60       224\n",
            "\n"
          ]
        }
      ],
      "source": [
        "print('classification report:')\n",
        "print(classification_report(y_test, predictions))"
      ]
    },
    {
      "cell_type": "markdown",
      "metadata": {
        "id": "R9ZqQv-FXu_C"
      },
      "source": [
        "# Metrics for evaluating Regressors"
      ]
    },
    {
      "cell_type": "code",
      "execution_count": null,
      "metadata": {
        "ExecuteTime": {
          "end_time": "2023-11-10T13:13:09.902529Z",
          "start_time": "2023-11-10T13:13:09.885529Z"
        },
        "id": "KrG6u0AvXu_C"
      },
      "outputs": [],
      "source": [
        "from sklearn.linear_model import LinearRegression\n",
        "from sklearn.metrics import r2_score"
      ]
    },
    {
      "cell_type": "code",
      "execution_count": null,
      "metadata": {
        "ExecuteTime": {
          "end_time": "2023-11-10T13:13:10.571606Z",
          "start_time": "2023-11-10T13:13:10.541607Z"
        },
        "id": "VFHeBK8xXu_D",
        "outputId": "f2bd4e46-15f6-4e6d-9c6d-10d9d54c2785"
      },
      "outputs": [
        {
          "data": {
            "text/plain": [
              "Index(['CRIM', 'ZN', 'INDUS', 'CHAS', 'NOX', 'RM', 'AGE', 'DIS', 'RAD', 'TAX',\n",
              "       'PTRATIO', 'B', 'LSTAT', 'MEDV'],\n",
              "      dtype='object')"
            ]
          },
          "execution_count": 326,
          "metadata": {},
          "output_type": "execute_result"
        }
      ],
      "source": [
        "boston = pd.read_csv(\"boston_house_prices.csv\", header=1)\n",
        "boston.columns"
      ]
    },
    {
      "cell_type": "markdown",
      "metadata": {
        "id": "YfRlYzSGXu_D"
      },
      "source": [
        "The Boston Housing Dataset\n",
        "\n",
        "The Boston Housing Dataset is a derived from information collected by the U.S. Census Service concerning housing in the area of Boston MA. The following describes the dataset columns:\n",
        "\n",
        "1. CRIM - per capita crime rate by town\n",
        "2. ZN - proportion of residential land zoned for lots over 25,000 sq.ft.\n",
        "3. INDUS - proportion of non-retail business acres per town.\n",
        "4. CHAS - Charles River dummy variable (1 if tract bounds river; 0 otherwise)\n",
        "5. NOX - nitric oxides concentration (parts per 10 million)\n",
        "6. RM - average number of rooms per dwelling\n",
        "7. AGE - proportion of owner-occupied units built prior to 1940\n",
        "8. DIS - weighted distances to five Boston employment centres\n",
        "9. RAD - index of accessibility to radial highways\n",
        "10. TAX - full-value property-tax rate per USD10,000\n",
        "11. PTRATIO - pupil-teacher ratio by town\n",
        "12. B - 1000(Bk - 0.63)^2 where Bk is the proportion of blacks by town\n",
        "13. LSTAT - % lower status of the population\n",
        "14. MEDV - Median value of owner-occupied homes in USD1000's"
      ]
    },
    {
      "cell_type": "code",
      "execution_count": null,
      "metadata": {
        "ExecuteTime": {
          "end_time": "2023-11-10T13:13:20.659048Z",
          "start_time": "2023-11-10T13:13:20.642046Z"
        },
        "id": "CDccZ2j3Xu_D"
      },
      "outputs": [],
      "source": [
        "# Select features and target variable\n",
        "X = boston.drop(\"MEDV\", axis=1)\n",
        "y = boston[\"MEDV\"]"
      ]
    },
    {
      "cell_type": "code",
      "execution_count": null,
      "metadata": {
        "ExecuteTime": {
          "end_time": "2023-11-10T13:13:21.625176Z",
          "start_time": "2023-11-10T13:13:21.597467Z"
        },
        "id": "IdLf9v07Xu_D"
      },
      "outputs": [],
      "source": [
        "# Split the dataset into training and testing sets\n",
        "X_train, X_test, y_train, y_test = train_test_split(X, y, test_size=0.2, random_state=42)\n",
        "\n",
        "# Train a linear regression model\n",
        "model = LinearRegression()\n",
        "model.fit(X_train, y_train)\n",
        "\n",
        "# Make predictions on the test set\n",
        "y_pred = model.predict(X_test)"
      ]
    },
    {
      "cell_type": "markdown",
      "metadata": {
        "id": "X2S-bLmCXu_E"
      },
      "source": [
        "### R-squared\n",
        "\n",
        "Linear regression identifies the equation that produces the smallest difference between all the observed values and their fitted values. To be precise, linear regression finds the smallest sum of squared residuals that is possible for the dataset.\n",
        "\n",
        "<img src=\"https://i0.wp.com/statisticsbyjim.com/wp-content/uploads/2017/04/residuals.png?resize=300%2C186&ssl=1\" />\n",
        "\n",
        "R-squared evaluates the scatter of the data points around the fitted regression line. It is also called the coefficient of determination, or the coefficient of multiple determination for multiple regression. For the same data set, higher R-squared values represent smaller differences between the observed data and the fitted values.\n",
        "\n",
        "<img src=\"https://i0.wp.com/statisticsbyjim.com/wp-content/uploads/2017/04/r_squared.png?resize=283%2C48&ssl=1\" />\n",
        "\n",
        "* Note that variance refers to a statistical measurement of the spread between numbers in a data set. *\n",
        "\n",
        "To visually demonstrate how R-squared values represent the scatter around the regression line, you can plot the fitted values by observed values.\n",
        "\n",
        "<img src=\"https://i0.wp.com/statisticsbyjim.com/wp-content/uploads/2017/04/flp_highvar.png?resize=300%2C210&ssl=1\" />\n",
        "\n",
        "The R-squared for the regression model on the above is 15% while for the one below, it is 85%.\n",
        "\n",
        "<img src=\"https://i0.wp.com/statisticsbyjim.com/wp-content/uploads/2017/04/flp_lowvar.png?resize=300%2C209&ssl=1\" />\n",
        "\n",
        "When a regression model accounts for more of the variance, the data points are closer to the regression line. In practice, you’ll never see a regression model with an R2 of 100%."
      ]
    },
    {
      "cell_type": "code",
      "execution_count": null,
      "metadata": {
        "ExecuteTime": {
          "end_time": "2023-11-10T13:13:22.046530Z",
          "start_time": "2023-11-10T13:13:22.028527Z"
        },
        "id": "-EvtxW9QXu_E",
        "outputId": "5871fc95-737f-47f0-a6ac-5b8c596730bf"
      },
      "outputs": [
        {
          "name": "stdout",
          "output_type": "stream",
          "text": [
            "R^2: 0.6688\n",
            "Adjusted R^2: 0.6198\n"
          ]
        }
      ],
      "source": [
        "# Calculate R^2\n",
        "r2 = r2_score(y_test, y_pred)\n",
        "\n",
        "# Calculate adjusted R^2\n",
        "n = len(y_test)\n",
        "p = X.shape[1]\n",
        "adjusted_r2 = 1 - ((1 - r2) * (n - 1) / (n - p - 1))\n",
        "\n",
        "# Print the results\n",
        "print(f'R^2: {r2:.4f}')\n",
        "print(f'Adjusted R^2: {adjusted_r2:.4f}')"
      ]
    },
    {
      "cell_type": "markdown",
      "metadata": {
        "id": "EOIheA9rXu_E"
      },
      "source": [
        "# How to improve models:\n",
        "1. Try using more variables in the predictions\n",
        "2. Try iterating on the test:train probabilities\n",
        "3. Do categorical feature encoding. This supports point 1.\n"
      ]
    },
    {
      "cell_type": "markdown",
      "metadata": {
        "ExecuteTime": {
          "end_time": "2023-11-10T09:29:55.924852Z",
          "start_time": "2023-11-10T09:29:55.796751Z"
        },
        "id": "3yhS_SQlXu_F"
      },
      "source": [
        "# References\n",
        "1. https://medium.com/analytics-vidhya/precision-recall-sensitivity-specificity-very-brief-explanation-747d698264ca\n",
        "2. https://www.jcchouinard.com/confusion-matrix-in-scikit-learn/\n",
        "3. https://www.v7labs.com/blog/f1-score-guide\n",
        "4. https://towardsdatascience.com/what-are-the-best-metrics-to-evaluate-your-regression-model-418ca481755b"
      ]
    }
  ],
  "metadata": {
    "kernelspec": {
      "display_name": "Python 3 (ipykernel)",
      "language": "python",
      "name": "python3"
    },
    "language_info": {
      "codemirror_mode": {
        "name": "ipython",
        "version": 3
      },
      "file_extension": ".py",
      "mimetype": "text/x-python",
      "name": "python",
      "nbconvert_exporter": "python",
      "pygments_lexer": "ipython3",
      "version": "3.8.16"
    },
    "colab": {
      "provenance": [],
      "include_colab_link": true
    }
  },
  "nbformat": 4,
  "nbformat_minor": 0
}